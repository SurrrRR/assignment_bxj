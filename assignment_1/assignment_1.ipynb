{
 "cells": [
  {
   "cell_type": "code",
   "execution_count": 3,
   "id": "85772336",
   "metadata": {},
   "outputs": [],
   "source": [
    "import pandas as pd\n",
    "from matplotlib import pyplot as plt"
   ]
  },
  {
   "cell_type": "code",
   "execution_count": 4,
   "id": "50d73b93",
   "metadata": {},
   "outputs": [
    {
     "name": "stdout",
     "output_type": "stream",
     "text": [
      "Time for COMM5961 study in week One(hours):3\n",
      "Time for COMM5950 study in week One(hours):2.1\n",
      "Time for COMM5942 study in week One(hours):3\n",
      "Time for COMM5961 study in week Two(hours):2\n",
      "Time for COMM5950 study in week Two(hours):4\n",
      "Time for COMM5942 study in week Two(hours):4.5\n",
      "Time for COMM5961 study in week Three(hours):3\n",
      "Time for COMM5950 study in week Three(hours):6\n",
      "Time for COMM5942 study in week Three(hours):3\n",
      "Time for COMM5961 study in week Four(hours):7\n",
      "Time for COMM5950 study in week Four(hours):6\n",
      "Time for COMM5942 study in week Four(hours):3.1\n"
     ]
    },
    {
     "data": {
      "text/html": [
       "<div>\n",
       "<style scoped>\n",
       "    .dataframe tbody tr th:only-of-type {\n",
       "        vertical-align: middle;\n",
       "    }\n",
       "\n",
       "    .dataframe tbody tr th {\n",
       "        vertical-align: top;\n",
       "    }\n",
       "\n",
       "    .dataframe thead th {\n",
       "        text-align: right;\n",
       "    }\n",
       "</style>\n",
       "<table border=\"1\" class=\"dataframe\">\n",
       "  <thead>\n",
       "    <tr style=\"text-align: right;\">\n",
       "      <th></th>\n",
       "      <th>WEEK</th>\n",
       "      <th>COMM5961</th>\n",
       "      <th>COMM5950</th>\n",
       "      <th>COMM5942</th>\n",
       "      <th>AVERAGE</th>\n",
       "    </tr>\n",
       "  </thead>\n",
       "  <tbody>\n",
       "    <tr>\n",
       "      <th>0</th>\n",
       "      <td>One</td>\n",
       "      <td>3.0</td>\n",
       "      <td>2.1</td>\n",
       "      <td>3.0</td>\n",
       "      <td>2.7</td>\n",
       "    </tr>\n",
       "    <tr>\n",
       "      <th>1</th>\n",
       "      <td>Two</td>\n",
       "      <td>2.0</td>\n",
       "      <td>4.0</td>\n",
       "      <td>4.5</td>\n",
       "      <td>3.5</td>\n",
       "    </tr>\n",
       "    <tr>\n",
       "      <th>2</th>\n",
       "      <td>Three</td>\n",
       "      <td>3.0</td>\n",
       "      <td>6.0</td>\n",
       "      <td>3.0</td>\n",
       "      <td>4.0</td>\n",
       "    </tr>\n",
       "    <tr>\n",
       "      <th>3</th>\n",
       "      <td>Four</td>\n",
       "      <td>7.0</td>\n",
       "      <td>6.0</td>\n",
       "      <td>3.1</td>\n",
       "      <td>5.4</td>\n",
       "    </tr>\n",
       "  </tbody>\n",
       "</table>\n",
       "</div>"
      ],
      "text/plain": [
       "    WEEK  COMM5961  COMM5950  COMM5942  AVERAGE\n",
       "0    One       3.0       2.1       3.0      2.7\n",
       "1    Two       2.0       4.0       4.5      3.5\n",
       "2  Three       3.0       6.0       3.0      4.0\n",
       "3   Four       7.0       6.0       3.1      5.4"
      ]
     },
     "execution_count": 4,
     "metadata": {},
     "output_type": "execute_result"
    }
   ],
   "source": [
    "task=[]\n",
    "week=[\"One\",\"Two\",\"Three\",\"Four\"]\n",
    "\n",
    "def ave1(x,y,z):\n",
    "    return round((x+y+z)/3,1)\n",
    "\n",
    "for i in week:\n",
    "    time_5961=input(\"Time for COMM5961 study in week \"+str(i)+\"(hours):\")\n",
    "    #print(\"I spent \"+time_5961+\" hours on COMM5961 in week \"+str(i))\n",
    "    time_5961=float(time_5961)\n",
    "    \n",
    "    time_5950=input(\"Time for COMM5950 study in week \"+str(i)+\"(hours):\")\n",
    "    #print(\"I spent \"+time_5950+\" hours on COMM5950 in week \"+str(i))\n",
    "    time_5950=float(time_5950)\n",
    "    \n",
    "    time_5942=input(\"Time for COMM5942 study in week \"+str(i)+\"(hours):\")\n",
    "    #print(\"I spent \"+time_5942+\" hours on COMM5942 in week \"+str(i))\n",
    "    time_5942=float(time_5942)\n",
    "    \n",
    "    average=ave1(time_5961,time_5950,time_5942)\n",
    "    task.append({\"WEEK\":i,\"COMM5961\":time_5961,\"COMM5950\":time_5950,\"COMM5942\":time_5942,\"AVERAGE\":average})\n",
    "\n",
    "\n",
    "#print(task)\n",
    "\n",
    "df=pd.DataFrame(task)\n",
    "df\n",
    "df.to_csv(\"time.csv\",mode=\"w\",index=False)\n",
    "df\n"
   ]
  },
  {
   "cell_type": "code",
   "execution_count": 5,
   "id": "9019c254",
   "metadata": {},
   "outputs": [
    {
     "data": {
      "image/png": "[encoded data removed]",
      "text/plain": [
       "<Figure size 432x288 with 1 Axes>"
      ]
     },
     "metadata": {
      "needs_background": "light"
     },
     "output_type": "display_data"
    }
   ],
   "source": [
    "df=pd.read_csv(\"time.csv\")\n",
    "list1=df.values.tolist()\n",
    "week=[]\n",
    "comm5961=[]\n",
    "comm5950=[]\n",
    "comm5942=[]\n",
    "average=[]\n",
    "for i in list1:\n",
    "    week.append(i[0])\n",
    "    comm5961.append(i[1])\n",
    "    comm5950.append(i[2])\n",
    "    comm5942.append(i[3])\n",
    "    average.append(i[4])\n",
    "#print(week)\n",
    "#print(comm5961)\n",
    "#print(comm5950)\n",
    "#print(comm5942)\n",
    "#print(average)\n",
    "\n",
    "plt.plot(week,comm5961,color=\"pink\",marker=\"s\") \n",
    "plt.plot(week,comm5950,color=\"yellow\",marker=\"^\")\n",
    "plt.plot(week,comm5942,color=\"orange\",marker=\"o\")\n",
    "plt.plot(week,average,color=\"red\",linestyle=\"--\")\n",
    "plt.xlabel(\"WEEK\")\n",
    "plt.ylabel(\"TIME  (hours)\")\n",
    "plt.legend(['COMM5961','COMM5950','COMM5942',\"  Average\"])\n",
    "plt.title(\"Working Hours for Assignments\")\n",
    "plt.show()"
   ]
  },
  {
   "cell_type": "code",
   "execution_count": null,
   "id": "e000bfe2",
   "metadata": {},
   "outputs": [],
   "source": []
  }
 ],
 "metadata": {
  "kernelspec": {
   "display_name": "Python 3",
   "language": "python",
   "name": "python3"
  },
  "language_info": {
   "codemirror_mode": {
    "name": "ipython",
    "version": 3
   },
   "file_extension": ".py",
   "mimetype": "text/x-python",
   "name": "python",
   "nbconvert_exporter": "python",
   "pygments_lexer": "ipython3",
   "version": "3.8.8"
  }
 },
 "nbformat": 4,
 "nbformat_minor": 5
}
